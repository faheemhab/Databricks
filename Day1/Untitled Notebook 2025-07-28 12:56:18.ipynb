{
 "cells": [
  {
   "cell_type": "code",
   "execution_count": 0,
   "metadata": {
    "application/vnd.databricks.v1+cell": {
     "cellMetadata": {
      "byteLimit": 2048000,
      "rowLimit": 10000
     },
     "inputWidgets": {},
     "nuid": "b46099a1-b469-4308-9888-a5185f50bfdc",
     "showTitle": false,
     "tableResultSettingsMap": {},
     "title": ""
    }
   },
   "outputs": [],
   "source": [
    "spark"
   ]
  },
  {
   "cell_type": "code",
   "execution_count": 0,
   "metadata": {
    "application/vnd.databricks.v1+cell": {
     "cellMetadata": {
      "byteLimit": 2048000,
      "rowLimit": 10000
     },
     "inputWidgets": {},
     "nuid": "844f35ec-29a8-4d28-a2d7-b98e2c4e07d4",
     "showTitle": false,
     "tableResultSettingsMap": {},
     "title": ""
    }
   },
   "outputs": [],
   "source": [
    "data=((1,'a'),(2,'b'),(3,'c'))\n",
    "df= spark.createDataFrame(data,['id','name'])"
   ]
  },
  {
   "cell_type": "code",
   "execution_count": 0,
   "metadata": {
    "application/vnd.databricks.v1+cell": {
     "cellMetadata": {
      "byteLimit": 2048000,
      "rowLimit": 10000
     },
     "inputWidgets": {},
     "nuid": "a0895761-439b-4d20-93ef-669ae8bc1724",
     "showTitle": false,
     "tableResultSettingsMap": {},
     "title": ""
    }
   },
   "outputs": [],
   "source": [
    "df\n",
    "df.show()\n",
    "df.printSchema()\n",
    "df.display()"
   ]
  },
  {
   "cell_type": "code",
   "execution_count": 0,
   "metadata": {
    "application/vnd.databricks.v1+cell": {
     "cellMetadata": {
      "byteLimit": 2048000,
      "rowLimit": 10000
     },
     "inputWidgets": {},
     "nuid": "ebccea72-4da0-451f-8aba-2f353cb1e09a",
     "showTitle": false,
     "tableResultSettingsMap": {},
     "title": ""
    }
   },
   "outputs": [],
   "source": [
    "#df=spark.read.csv(\"/Volumes/jpmc/naval/raw/sales.csv\")\n",
    "#df=spark.read.option(\"header\",True).option(\"inferSchema\",True).csv(\"/Volumes/jpmc/naval/raw/sales.csv\")\n",
    "df=spark.read.csv(\"/Volumes/jpmc/naval/raw/sales.csv\",header=True,inferSchema=True)"
   ]
  },
  {
   "cell_type": "code",
   "execution_count": 0,
   "metadata": {
    "application/vnd.databricks.v1+cell": {
     "cellMetadata": {
      "byteLimit": 2048000,
      "rowLimit": 10000
     },
     "inputWidgets": {},
     "nuid": "a56521ee-c2fa-4392-9755-f5799d797c81",
     "showTitle": false,
     "tableResultSettingsMap": {},
     "title": ""
    }
   },
   "outputs": [],
   "source": [
    "df.display()"
   ]
  },
  {
   "cell_type": "code",
   "execution_count": 0,
   "metadata": {
    "application/vnd.databricks.v1+cell": {
     "cellMetadata": {
      "byteLimit": 2048000,
      "rowLimit": 10000
     },
     "inputWidgets": {},
     "nuid": "da796bae-90b9-42b0-86c9-d25529426849",
     "showTitle": false,
     "tableResultSettingsMap": {
      "0": {
       "dataGridStateBlob": "{\"version\":1,\"tableState\":{\"columnPinning\":{\"left\":[\"#row_number#\"],\"right\":[]},\"columnSizing\":{},\"columnVisibility\":{}},\"settings\":{\"columns\":{}},\"syncTimestamp\":1753694469790}",
       "filterBlob": null,
       "queryPlanFiltersBlob": null,
       "tableResultIndex": 0
      }
     },
     "title": ""
    }
   },
   "outputs": [],
   "source": [
    "# df.select(\"customer_id\",\"total_amount\").display()\n",
    "# df.sort(df[\"customer_id\"].desc()).display()\n",
    "# df.groupBy(\"customer_id\").sum(\"total_amount\").display()\n",
    "# df.groupBy(\"customer_id\")\n",
    "\n",
    "from pyspark.sql.functions import col  \n",
    "# df.select(col(\"customer_id\").alias(\"cust_id\")).display()\n",
    "# df= df.withColumnRenamed(\"customer_id\",\"cust_id\").withColumnRenamed(\"total_amount\",\"total\")\n",
    "# df.display()\n",
    "# df.withColumnsRenamed({\"customer_id\":\"cust_id\",\"quantity\":\"qty\"}).display()\n",
    "from pyspark.sql.functions import lit\n",
    "from datetime import datetime\n",
    "from pyspark.sql.functions import current_date\n",
    "# df.withColumn(\"ingestion_date\",current_date()).display()\n",
    "\n",
    "df.withColumn(\"quantity\",current_date()).display()\n"
   ]
  },
  {
   "cell_type": "code",
   "execution_count": 0,
   "metadata": {
    "application/vnd.databricks.v1+cell": {
     "cellMetadata": {},
     "inputWidgets": {},
     "nuid": "4e32030b-0c23-4ba5-bab7-feb1b1f50364",
     "showTitle": false,
     "tableResultSettingsMap": {},
     "title": ""
    }
   },
   "outputs": [],
   "source": []
  }
 ],
 "metadata": {
  "application/vnd.databricks.v1+notebook": {
   "computePreferences": null,
   "dashboards": [],
   "environmentMetadata": {
    "base_environment": "",
    "environment_version": "2"
   },
   "inputWidgetPreferences": null,
   "language": "python",
   "notebookMetadata": {
    "pythonIndentUnit": 4
   },
   "notebookName": "Untitled Notebook 2025-07-28 12:56:18",
   "widgets": {}
  },
  "language_info": {
   "name": "python"
  }
 },
 "nbformat": 4,
 "nbformat_minor": 0
}
